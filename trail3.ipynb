{
 "cells": [
  {
   "cell_type": "code",
   "execution_count": 1,
   "source": [
    "import pandas as pd\r\n",
    "import numpy as np\r\n",
    "import matplotlib.pyplot as plt\r\n",
    "import torch\r\n",
    "from sklearn.preprocessing import LabelEncoder\r\n",
    "from sklearn.model_selection import train_test_split\r\n",
    "from torch import nn\r\n",
    "import torch.nn.functional as F"
   ],
   "outputs": [],
   "metadata": {}
  },
  {
   "cell_type": "code",
   "execution_count": 2,
   "source": [
    "df = pd.read_csv(\"train.csv\")\r\n",
    "df.drop(['id'],axis = 1,inplace=True)\r\n",
    "df_1 = df[df[\"Response\"]==1]\r\n",
    "df_0 = df[df[\"Response\"]==0]\r\n",
    "df_00 = df_0.sample(n=len(df_1))\r\n",
    "#df = df_1.append(df_00)\r\n",
    "#df = df.reset_index(drop=True)\r\n",
    "len(df)"
   ],
   "outputs": [
    {
     "output_type": "execute_result",
     "data": {
      "text/plain": [
       "381109"
      ]
     },
     "metadata": {},
     "execution_count": 2
    }
   ],
   "metadata": {}
  },
  {
   "cell_type": "code",
   "execution_count": 3,
   "source": [
    "def one(df):\r\n",
    "    df2 = df.copy()\r\n",
    "    for i in df2.columns:\r\n",
    "        if df2[i].dtype == object:\r\n",
    "            d = pd.get_dummies(df2[i],prefix = i)\r\n",
    "            df2.drop(i,axis=1,inplace=True)\r\n",
    "            df2 = df2.join(d)\r\n",
    "    return(df2)"
   ],
   "outputs": [],
   "metadata": {}
  },
  {
   "cell_type": "code",
   "execution_count": 4,
   "source": [
    "def label(df):\r\n",
    "    df1 = df.copy()\r\n",
    "    lab = LabelEncoder()\r\n",
    "    for i in df1.columns:\r\n",
    "        if df[i].dtype == object:\r\n",
    "            df1[i] = lab.fit_transform(df[i]).astype('float64')\r\n",
    "    return df1"
   ],
   "outputs": [],
   "metadata": {}
  },
  {
   "cell_type": "code",
   "execution_count": 5,
   "source": [
    "df2 = one(df)\r\n",
    "#df2 = label(df)\r\n",
    "#df2 = df.copy()\r\n",
    "x = df2.drop('Response',axis=1).values\r\n",
    "y = df2['Response'].values \r\n",
    "X_train,X_test,y_train,y_test=train_test_split(x,y,test_size=0.2,random_state=0)"
   ],
   "outputs": [],
   "metadata": {}
  },
  {
   "cell_type": "code",
   "execution_count": 6,
   "source": [
    "X_train=torch.FloatTensor(X_train)\r\n",
    "X_test=torch.FloatTensor(X_test)\r\n",
    "y_train=torch.LongTensor(y_train)\r\n",
    "y_test=torch.LongTensor(y_test)"
   ],
   "outputs": [],
   "metadata": {}
  },
  {
   "cell_type": "code",
   "execution_count": 7,
   "source": [
    "class ANN_Model(nn.Module):\r\n",
    "    def __init__(self,input_features=14,hidden1=20,hidden2=20,out_features=2):\r\n",
    "        super().__init__()\r\n",
    "        self.f_connected1=nn.Linear(input_features,hidden1)\r\n",
    "        self.f_connected2=nn.Linear(hidden1,hidden2)\r\n",
    "        self.out=nn.Linear(hidden2,out_features)\r\n",
    "    def forward(self,x):\r\n",
    "        x=F.relu(self.f_connected1(x))\r\n",
    "        x=F.relu(self.f_connected2(x))\r\n",
    "        x=self.out(x)\r\n",
    "        return x"
   ],
   "outputs": [],
   "metadata": {}
  },
  {
   "cell_type": "code",
   "execution_count": 8,
   "source": [
    "model=ANN_Model()"
   ],
   "outputs": [],
   "metadata": {}
  },
  {
   "cell_type": "code",
   "execution_count": 9,
   "source": [
    "loss_function=nn.CrossEntropyLoss()\r\n",
    "optimizer=torch.optim.Adam(model.parameters(),lr=0.005)"
   ],
   "outputs": [],
   "metadata": {}
  },
  {
   "cell_type": "code",
   "execution_count": 10,
   "source": [
    "epochs=500\r\n",
    "final_losses=[]\r\n",
    "for i in range(epochs):\r\n",
    "    i=i+1\r\n",
    "    y_pred=model.forward(X_train)\r\n",
    "    loss=loss_function(y_pred,y_train)\r\n",
    "    final_losses.append(loss)\r\n",
    "    if i%10==1:\r\n",
    "        print(\"Epoch number: {} and the loss : {}\".format(i,loss.item()))\r\n",
    "    optimizer.zero_grad()\r\n",
    "    loss.backward()\r\n",
    "    optimizer.step()"
   ],
   "outputs": [
    {
     "output_type": "stream",
     "name": "stdout",
     "text": [
      "Epoch number: 1 and the loss : 477.34222412109375\n",
      "Epoch number: 11 and the loss : 55.30725860595703\n",
      "Epoch number: 21 and the loss : 22.401880264282227\n",
      "Epoch number: 31 and the loss : 3.1234207153320312\n",
      "Epoch number: 41 and the loss : 0.7032174468040466\n",
      "Epoch number: 51 and the loss : 0.4827914237976074\n",
      "Epoch number: 61 and the loss : 1.8180721998214722\n",
      "Epoch number: 71 and the loss : 0.7271084189414978\n",
      "Epoch number: 81 and the loss : 0.7171509265899658\n",
      "Epoch number: 91 and the loss : 0.5423282980918884\n",
      "Epoch number: 101 and the loss : 0.5875723361968994\n",
      "Epoch number: 111 and the loss : 0.4909246563911438\n",
      "Epoch number: 121 and the loss : 0.426553338766098\n",
      "Epoch number: 131 and the loss : 0.4118593633174896\n",
      "Epoch number: 141 and the loss : 0.40723374485969543\n",
      "Epoch number: 151 and the loss : 0.4038308262825012\n",
      "Epoch number: 161 and the loss : 0.3980865478515625\n",
      "Epoch number: 171 and the loss : 0.39463886618614197\n",
      "Epoch number: 181 and the loss : 0.3912251889705658\n",
      "Epoch number: 191 and the loss : 0.38814103603363037\n",
      "Epoch number: 201 and the loss : 0.3853769600391388\n",
      "Epoch number: 211 and the loss : 0.382876992225647\n",
      "Epoch number: 221 and the loss : 0.38061171770095825\n",
      "Epoch number: 231 and the loss : 0.37856218218803406\n",
      "Epoch number: 241 and the loss : 0.3767079710960388\n",
      "Epoch number: 251 and the loss : 0.3750298321247101\n",
      "Epoch number: 261 and the loss : 0.3735114336013794\n",
      "Epoch number: 271 and the loss : 0.3721372187137604\n",
      "Epoch number: 281 and the loss : 0.37089240550994873\n",
      "Epoch number: 291 and the loss : 0.3697638511657715\n",
      "Epoch number: 301 and the loss : 0.3687392473220825\n",
      "Epoch number: 311 and the loss : 0.3678072988986969\n",
      "Epoch number: 321 and the loss : 0.3669578731060028\n",
      "Epoch number: 331 and the loss : 0.36618155241012573\n",
      "Epoch number: 341 and the loss : 0.36547020077705383\n",
      "Epoch number: 351 and the loss : 0.36481624841690063\n",
      "Epoch number: 361 and the loss : 0.36421340703964233\n",
      "Epoch number: 371 and the loss : 0.3636552095413208\n",
      "Epoch number: 381 and the loss : 0.363136887550354\n",
      "Epoch number: 391 and the loss : 0.36265358328819275\n",
      "Epoch number: 401 and the loss : 0.36220160126686096\n",
      "Epoch number: 411 and the loss : 0.3617768883705139\n",
      "Epoch number: 421 and the loss : 0.36137673258781433\n",
      "Epoch number: 431 and the loss : 0.3609980642795563\n",
      "Epoch number: 441 and the loss : 0.36063846945762634\n",
      "Epoch number: 451 and the loss : 0.36029642820358276\n",
      "Epoch number: 461 and the loss : 0.35996946692466736\n",
      "Epoch number: 471 and the loss : 0.3596560060977936\n",
      "Epoch number: 481 and the loss : 0.35935431718826294\n",
      "Epoch number: 491 and the loss : 0.35906362533569336\n"
     ]
    }
   ],
   "metadata": {}
  },
  {
   "cell_type": "code",
   "execution_count": 11,
   "source": [
    "plt.plot(range(epochs),final_losses)\r\n",
    "plt.ylabel('Loss')\r\n",
    "plt.xlabel('Epoch')"
   ],
   "outputs": [
    {
     "output_type": "execute_result",
     "data": {
      "text/plain": [
       "Text(0.5, 0, 'Epoch')"
      ]
     },
     "metadata": {},
     "execution_count": 11
    },
    {
     "output_type": "display_data",
     "data": {
      "text/plain": [
       "<Figure size 432x288 with 1 Axes>"
      ],
      "image/png": "[encoded data removed]"
     },
     "metadata": {
      "needs_background": "light"
     }
    }
   ],
   "metadata": {}
  },
  {
   "cell_type": "code",
   "execution_count": 12,
   "source": [
    "predictions=[]\r\n",
    "with torch.no_grad():\r\n",
    "    for i,data in enumerate(X_test):\r\n",
    "        y_pred=model(data)\r\n",
    "        predictions.append(y_pred.argmax().item())\r\n",
    "        #print(y_pred.argmax().item())"
   ],
   "outputs": [],
   "metadata": {}
  },
  {
   "cell_type": "code",
   "execution_count": 13,
   "source": [
    "from sklearn.metrics import confusion_matrix as cm\r\n",
    "c = cm(y_test,predictions)\r\n",
    "c"
   ],
   "outputs": [
    {
     "output_type": "execute_result",
     "data": {
      "text/plain": [
       "array([[66846,     0],\n",
       "       [ 9376,     0]], dtype=int64)"
      ]
     },
     "metadata": {},
     "execution_count": 13
    }
   ],
   "metadata": {}
  },
  {
   "cell_type": "code",
   "execution_count": 14,
   "source": [
    "from sklearn.metrics import accuracy_score as ac\r\n",
    "score = ac(y_test,predictions)\r\n",
    "score"
   ],
   "outputs": [
    {
     "output_type": "execute_result",
     "data": {
      "text/plain": [
       "0.8769908950171866"
      ]
     },
     "metadata": {},
     "execution_count": 14
    }
   ],
   "metadata": {}
  },
  {
   "cell_type": "code",
   "execution_count": 25,
   "source": [
    "val = pd.read_csv(\"test.csv\")\r\n",
    "id = val[\"id\"]\r\n",
    "val = val.drop(\"id\",axis=1)\r\n",
    "x = one(val).values\r\n",
    "x = torch.FloatTensor(x)\r\n",
    "Y=[]\r\n",
    "with torch.no_grad():\r\n",
    "    for i,data in enumerate(x):\r\n",
    "        y_pred=model(data)\r\n",
    "        Y.append(y_pred.argmax().item())"
   ],
   "outputs": [],
   "metadata": {}
  },
  {
   "cell_type": "code",
   "execution_count": 29,
   "source": [
    "f = {\"id\":id,\"Response\":Y}\r\n",
    "f = pd.DataFrame(f)"
   ],
   "outputs": [],
   "metadata": {}
  },
  {
   "cell_type": "code",
   "execution_count": 32,
   "source": [
    "f.to_csv(\"sub.csv\",index=False)"
   ],
   "outputs": [],
   "metadata": {}
  },
  {
   "cell_type": "code",
   "execution_count": null,
   "source": [],
   "outputs": [],
   "metadata": {}
  }
 ],
 "metadata": {
  "orig_nbformat": 4,
  "language_info": {
   "name": "python",
   "version": "3.9.6",
   "mimetype": "text/x-python",
   "codemirror_mode": {
    "name": "ipython",
    "version": 3
   },
   "pygments_lexer": "ipython3",
   "nbconvert_exporter": "python",
   "file_extension": ".py"
  },
  "kernelspec": {
   "name": "python3",
   "display_name": "Python 3.9.6 64-bit"
  },
  "interpreter": {
   "hash": "4a69da72ed8d5f95fd38d7d776a081d75b8700c2589cad8f0d7c8f8863c828a9"
  }
 },
 "nbformat": 4,
 "nbformat_minor": 2
}