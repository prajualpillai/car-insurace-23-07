{
 "cells": [
  {
   "cell_type": "code",
   "execution_count": 16,
   "source": [
    "import pandas as pd\r\n",
    "import numpy as np\r\n",
    "import matplotlib.pyplot as plt\r\n",
    "import torch\r\n",
    "from sklearn.preprocessing import LabelEncoder\r\n",
    "from sklearn.model_selection import train_test_split\r\n",
    "from torch import nn\r\n",
    "import torch.nn.functional as F"
   ],
   "outputs": [],
   "metadata": {}
  },
  {
   "cell_type": "code",
   "execution_count": 40,
   "source": [
    "df = pd.read_csv(\"train.csv\")\r\n",
    "df.drop(['id'],axis = 1,inplace=True)\r\n",
    "df_1 = df[df[\"Response\"]==1]\r\n",
    "df_0 = df[df[\"Response\"]==0]\r\n",
    "df_00 = df_0.sample(n=len(df_1))\r\n",
    "#df = df_1.append(df_00)\r\n",
    "#df = df.reset_index(drop=True)\r\n",
    "len(df)"
   ],
   "outputs": [
    {
     "output_type": "execute_result",
     "data": {
      "text/plain": [
       "381109"
      ]
     },
     "metadata": {},
     "execution_count": 40
    }
   ],
   "metadata": {}
  },
  {
   "cell_type": "code",
   "execution_count": 41,
   "source": [
    "def one(df):\r\n",
    "    df2 = df.copy()\r\n",
    "    for i in df2.columns:\r\n",
    "        if df2[i].dtype == object:\r\n",
    "            d = pd.get_dummies(df2[i],prefix = i)\r\n",
    "            df2.drop(i,axis=1,inplace=True)\r\n",
    "            df2 = df2.join(d)\r\n",
    "    return(df2)"
   ],
   "outputs": [],
   "metadata": {}
  },
  {
   "cell_type": "code",
   "execution_count": 42,
   "source": [
    "def label(df):\r\n",
    "    df1 = df.copy()\r\n",
    "    lab = LabelEncoder()\r\n",
    "    for i in df1.columns:\r\n",
    "        if df[i].dtype == object:\r\n",
    "            df1[i] = lab.fit_transform(df[i]).astype('float64')\r\n",
    "    return df1"
   ],
   "outputs": [],
   "metadata": {}
  },
  {
   "cell_type": "code",
   "execution_count": 43,
   "source": [
    "df2 = one(df)\r\n",
    "#df2 = label(df)\r\n",
    "#df2 = df.copy()\r\n",
    "x = df2.drop('Response',axis=1).values\r\n",
    "y = df2['Response'].values \r\n",
    "X_train,X_test,y_train,y_test=train_test_split(x,y,test_size=0.2,random_state=0)"
   ],
   "outputs": [],
   "metadata": {}
  },
  {
   "cell_type": "code",
   "execution_count": 44,
   "source": [
    "X_train=torch.FloatTensor(X_train)\r\n",
    "X_test=torch.FloatTensor(X_test)\r\n",
    "y_train=torch.LongTensor(y_train)\r\n",
    "y_test=torch.LongTensor(y_test)"
   ],
   "outputs": [],
   "metadata": {}
  },
  {
   "cell_type": "code",
   "execution_count": 45,
   "source": [
    "class ANN_Model(nn.Module):\r\n",
    "    def __init__(self,input_features=14,hidden1=20,hidden2=20,out_features=2):\r\n",
    "        super().__init__()\r\n",
    "        self.f_connected1=nn.Linear(input_features,hidden1)\r\n",
    "        self.f_connected2=nn.Linear(hidden1,hidden2)\r\n",
    "        self.out=nn.Linear(hidden2,out_features)\r\n",
    "    def forward(self,x):\r\n",
    "        x=F.relu(self.f_connected1(x))\r\n",
    "        x=F.relu(self.f_connected2(x))\r\n",
    "        x=self.out(x)\r\n",
    "        return x"
   ],
   "outputs": [],
   "metadata": {}
  },
  {
   "cell_type": "code",
   "execution_count": 46,
   "source": [
    "model=ANN_Model()"
   ],
   "outputs": [],
   "metadata": {}
  },
  {
   "cell_type": "code",
   "execution_count": 47,
   "source": [
    "loss_function=nn.CrossEntropyLoss()\r\n",
    "optimizer=torch.optim.Adam(model.parameters(),lr=0.005)"
   ],
   "outputs": [],
   "metadata": {}
  },
  {
   "cell_type": "code",
   "execution_count": 48,
   "source": [
    "epochs=500\r\n",
    "final_losses=[]\r\n",
    "for i in range(epochs):\r\n",
    "    i=i+1\r\n",
    "    y_pred=model.forward(X_train)\r\n",
    "    loss=loss_function(y_pred,y_train)\r\n",
    "    final_losses.append(loss)\r\n",
    "    if i%10==1:\r\n",
    "        print(\"Epoch number: {} and the loss : {}\".format(i,loss.item()))\r\n",
    "    optimizer.zero_grad()\r\n",
    "    loss.backward()\r\n",
    "    optimizer.step()"
   ],
   "outputs": [
    {
     "output_type": "stream",
     "name": "stdout",
     "text": [
      "Epoch number: 1 and the loss : 285.83721923828125\n",
      "Epoch number: 11 and the loss : 35.63916778564453\n",
      "Epoch number: 21 and the loss : 15.929143905639648\n",
      "Epoch number: 31 and the loss : 3.745234251022339\n",
      "Epoch number: 41 and the loss : 0.6894024014472961\n",
      "Epoch number: 51 and the loss : 0.6620001196861267\n",
      "Epoch number: 61 and the loss : 0.42232391238212585\n",
      "Epoch number: 71 and the loss : 0.44001805782318115\n",
      "Epoch number: 81 and the loss : 0.4138730466365814\n",
      "Epoch number: 91 and the loss : 0.40941736102104187\n",
      "Epoch number: 101 and the loss : 0.40849149227142334\n",
      "Epoch number: 111 and the loss : 0.4054981768131256\n",
      "Epoch number: 121 and the loss : 0.40391531586647034\n",
      "Epoch number: 131 and the loss : 0.4022426903247833\n",
      "Epoch number: 141 and the loss : 0.4005138576030731\n",
      "Epoch number: 151 and the loss : 0.39883747696876526\n",
      "Epoch number: 161 and the loss : 0.3971787393093109\n",
      "Epoch number: 171 and the loss : 0.39553582668304443\n",
      "Epoch number: 181 and the loss : 0.39391499757766724\n",
      "Epoch number: 191 and the loss : 0.39232364296913147\n",
      "Epoch number: 201 and the loss : 0.39076605439186096\n",
      "Epoch number: 211 and the loss : 0.38924679160118103\n",
      "Epoch number: 221 and the loss : 0.38776978850364685\n",
      "Epoch number: 231 and the loss : 0.3863382041454315\n",
      "Epoch number: 241 and the loss : 0.384955495595932\n",
      "Epoch number: 251 and the loss : 0.3836236000061035\n",
      "Epoch number: 261 and the loss : 0.3823448121547699\n",
      "Epoch number: 271 and the loss : 0.38112059235572815\n",
      "Epoch number: 281 and the loss : 0.3799518048763275\n",
      "Epoch number: 291 and the loss : 0.3788393437862396\n",
      "Epoch number: 301 and the loss : 0.3777832090854645\n",
      "Epoch number: 311 and the loss : 0.3767834007740021\n",
      "Epoch number: 321 and the loss : 0.3758392930030823\n",
      "Epoch number: 331 and the loss : 0.37494999170303345\n",
      "Epoch number: 341 and the loss : 0.3741145133972168\n",
      "Epoch number: 351 and the loss : 0.3733312785625458\n",
      "Epoch number: 361 and the loss : 0.3725984990596771\n",
      "Epoch number: 371 and the loss : 0.3719143867492676\n",
      "Epoch number: 381 and the loss : 0.3712770640850067\n",
      "Epoch number: 391 and the loss : 0.3706839978694916\n",
      "Epoch number: 401 and the loss : 0.37013310194015503\n",
      "Epoch number: 411 and the loss : 0.36962196230888367\n",
      "Epoch number: 421 and the loss : 0.36914804577827454\n",
      "Epoch number: 431 and the loss : 0.36870887875556946\n",
      "Epoch number: 441 and the loss : 0.36830219626426697\n",
      "Epoch number: 451 and the loss : 0.3679254353046417\n",
      "Epoch number: 461 and the loss : 0.3675761818885803\n",
      "Epoch number: 471 and the loss : 0.3672522306442261\n",
      "Epoch number: 481 and the loss : 0.3669511675834656\n",
      "Epoch number: 491 and the loss : 0.3666711151599884\n"
     ]
    }
   ],
   "metadata": {}
  },
  {
   "cell_type": "code",
   "execution_count": 49,
   "source": [
    "plt.plot(range(epochs),final_losses)\r\n",
    "plt.ylabel('Loss')\r\n",
    "plt.xlabel('Epoch')"
   ],
   "outputs": [
    {
     "output_type": "execute_result",
     "data": {
      "text/plain": [
       "Text(0.5, 0, 'Epoch')"
      ]
     },
     "metadata": {},
     "execution_count": 49
    },
    {
     "output_type": "display_data",
     "data": {
      "text/plain": [
       "<Figure size 432x288 with 1 Axes>"
      ],
      "image/png": "[encoded data removed]"
     },
     "metadata": {
      "needs_background": "light"
     }
    }
   ],
   "metadata": {}
  },
  {
   "cell_type": "code",
   "execution_count": 50,
   "source": [
    "predictions=[]\r\n",
    "with torch.no_grad():\r\n",
    "    for i,data in enumerate(X_test):\r\n",
    "        y_pred=model(data)\r\n",
    "        predictions.append(y_pred.argmax().item())\r\n",
    "        #print(y_pred.argmax().item())"
   ],
   "outputs": [],
   "metadata": {}
  },
  {
   "cell_type": "code",
   "execution_count": 51,
   "source": [
    "from sklearn.metrics import confusion_matrix as cm\r\n",
    "c = cm(y_test,predictions)\r\n",
    "c"
   ],
   "outputs": [
    {
     "output_type": "execute_result",
     "data": {
      "text/plain": [
       "array([[66846,     0],\n",
       "       [ 9376,     0]], dtype=int64)"
      ]
     },
     "metadata": {},
     "execution_count": 51
    }
   ],
   "metadata": {}
  },
  {
   "cell_type": "code",
   "execution_count": 52,
   "source": [
    "from sklearn.metrics import accuracy_score as ac\r\n",
    "score = ac(y_test,predictions)\r\n",
    "score"
   ],
   "outputs": [
    {
     "output_type": "execute_result",
     "data": {
      "text/plain": [
       "0.8769908950171866"
      ]
     },
     "metadata": {},
     "execution_count": 52
    }
   ],
   "metadata": {}
  },
  {
   "cell_type": "code",
   "execution_count": null,
   "source": [],
   "outputs": [],
   "metadata": {}
  }
 ],
 "metadata": {
  "orig_nbformat": 4,
  "language_info": {
   "name": "python",
   "version": "3.9.6",
   "mimetype": "text/x-python",
   "codemirror_mode": {
    "name": "ipython",
    "version": 3
   },
   "pygments_lexer": "ipython3",
   "nbconvert_exporter": "python",
   "file_extension": ".py"
  },
  "kernelspec": {
   "name": "python3",
   "display_name": "Python 3.9.6 64-bit"
  },
  "interpreter": {
   "hash": "4a69da72ed8d5f95fd38d7d776a081d75b8700c2589cad8f0d7c8f8863c828a9"
  }
 },
 "nbformat": 4,
 "nbformat_minor": 2
}