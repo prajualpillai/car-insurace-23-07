{
 "cells": [
  {
   "cell_type": "code",
   "execution_count": 2,
   "source": [
    "import pandas as pd\r\n",
    "import numpy as np\r\n",
    "import matplotlib.pyplot as plt\r\n",
    "import torch\r\n",
    "from sklearn.preprocessing import LabelEncoder\r\n",
    "from sklearn.model_selection import train_test_split"
   ],
   "outputs": [],
   "metadata": {}
  },
  {
   "cell_type": "code",
   "execution_count": 3,
   "source": [
    "df = pd.read_csv(\"train.csv\")\r\n",
    "df.head(2)"
   ],
   "outputs": [
    {
     "output_type": "execute_result",
     "data": {
      "text/plain": [
       "   id Gender  Age  Driving_License  Region_Code  Previously_Insured  \\\n",
       "0   1   Male   44                1         28.0                   0   \n",
       "1   2   Male   76                1          3.0                   0   \n",
       "\n",
       "  Vehicle_Age Vehicle_Damage  Annual_Premium  Policy_Sales_Channel  Vintage  \\\n",
       "0   > 2 Years            Yes         40454.0                  26.0      217   \n",
       "1    1-2 Year             No         33536.0                  26.0      183   \n",
       "\n",
       "   Response  \n",
       "0         1  \n",
       "1         0  "
      ],
      "text/html": [
       "<div>\n",
       "<style scoped>\n",
       "    .dataframe tbody tr th:only-of-type {\n",
       "        vertical-align: middle;\n",
       "    }\n",
       "\n",
       "    .dataframe tbody tr th {\n",
       "        vertical-align: top;\n",
       "    }\n",
       "\n",
       "    .dataframe thead th {\n",
       "        text-align: right;\n",
       "    }\n",
       "</style>\n",
       "<table border=\"1\" class=\"dataframe\">\n",
       "  <thead>\n",
       "    <tr style=\"text-align: right;\">\n",
       "      <th></th>\n",
       "      <th>id</th>\n",
       "      <th>Gender</th>\n",
       "      <th>Age</th>\n",
       "      <th>Driving_License</th>\n",
       "      <th>Region_Code</th>\n",
       "      <th>Previously_Insured</th>\n",
       "      <th>Vehicle_Age</th>\n",
       "      <th>Vehicle_Damage</th>\n",
       "      <th>Annual_Premium</th>\n",
       "      <th>Policy_Sales_Channel</th>\n",
       "      <th>Vintage</th>\n",
       "      <th>Response</th>\n",
       "    </tr>\n",
       "  </thead>\n",
       "  <tbody>\n",
       "    <tr>\n",
       "      <th>0</th>\n",
       "      <td>1</td>\n",
       "      <td>Male</td>\n",
       "      <td>44</td>\n",
       "      <td>1</td>\n",
       "      <td>28.0</td>\n",
       "      <td>0</td>\n",
       "      <td>&gt; 2 Years</td>\n",
       "      <td>Yes</td>\n",
       "      <td>40454.0</td>\n",
       "      <td>26.0</td>\n",
       "      <td>217</td>\n",
       "      <td>1</td>\n",
       "    </tr>\n",
       "    <tr>\n",
       "      <th>1</th>\n",
       "      <td>2</td>\n",
       "      <td>Male</td>\n",
       "      <td>76</td>\n",
       "      <td>1</td>\n",
       "      <td>3.0</td>\n",
       "      <td>0</td>\n",
       "      <td>1-2 Year</td>\n",
       "      <td>No</td>\n",
       "      <td>33536.0</td>\n",
       "      <td>26.0</td>\n",
       "      <td>183</td>\n",
       "      <td>0</td>\n",
       "    </tr>\n",
       "  </tbody>\n",
       "</table>\n",
       "</div>"
      ]
     },
     "metadata": {},
     "execution_count": 3
    }
   ],
   "metadata": {}
  },
  {
   "cell_type": "markdown",
   "source": [
    "# Checking the type of data in the dataset"
   ],
   "metadata": {}
  },
  {
   "cell_type": "code",
   "execution_count": 4,
   "source": [
    "df.info()"
   ],
   "outputs": [
    {
     "output_type": "stream",
     "name": "stdout",
     "text": [
      "<class 'pandas.core.frame.DataFrame'>\n",
      "RangeIndex: 381109 entries, 0 to 381108\n",
      "Data columns (total 12 columns):\n",
      " #   Column                Non-Null Count   Dtype  \n",
      "---  ------                --------------   -----  \n",
      " 0   id                    381109 non-null  int64  \n",
      " 1   Gender                381109 non-null  object \n",
      " 2   Age                   381109 non-null  int64  \n",
      " 3   Driving_License       381109 non-null  int64  \n",
      " 4   Region_Code           381109 non-null  float64\n",
      " 5   Previously_Insured    381109 non-null  int64  \n",
      " 6   Vehicle_Age           381109 non-null  object \n",
      " 7   Vehicle_Damage        381109 non-null  object \n",
      " 8   Annual_Premium        381109 non-null  float64\n",
      " 9   Policy_Sales_Channel  381109 non-null  float64\n",
      " 10  Vintage               381109 non-null  int64  \n",
      " 11  Response              381109 non-null  int64  \n",
      "dtypes: float64(3), int64(6), object(3)\n",
      "memory usage: 34.9+ MB\n"
     ]
    }
   ],
   "metadata": {}
  },
  {
   "cell_type": "markdown",
   "source": [
    "# Checking for null values"
   ],
   "metadata": {}
  },
  {
   "cell_type": "code",
   "execution_count": 5,
   "source": [
    "df.isnull().sum()"
   ],
   "outputs": [
    {
     "output_type": "execute_result",
     "data": {
      "text/plain": [
       "id                      0\n",
       "Gender                  0\n",
       "Age                     0\n",
       "Driving_License         0\n",
       "Region_Code             0\n",
       "Previously_Insured      0\n",
       "Vehicle_Age             0\n",
       "Vehicle_Damage          0\n",
       "Annual_Premium          0\n",
       "Policy_Sales_Channel    0\n",
       "Vintage                 0\n",
       "Response                0\n",
       "dtype: int64"
      ]
     },
     "metadata": {},
     "execution_count": 5
    }
   ],
   "metadata": {}
  },
  {
   "cell_type": "markdown",
   "source": [
    "As we see that there are no null values in our dataset, we can now carry on without imputations"
   ],
   "metadata": {}
  },
  {
   "cell_type": "code",
   "execution_count": 6,
   "source": [
    "df.drop(['id'],axis = 1,inplace=True)"
   ],
   "outputs": [],
   "metadata": {}
  },
  {
   "cell_type": "code",
   "execution_count": 7,
   "source": [
    "df.describe(include='all')"
   ],
   "outputs": [
    {
     "output_type": "execute_result",
     "data": {
      "text/plain": [
       "        Gender            Age  Driving_License    Region_Code  \\\n",
       "count   381109  381109.000000    381109.000000  381109.000000   \n",
       "unique       2            NaN              NaN            NaN   \n",
       "top       Male            NaN              NaN            NaN   \n",
       "freq    206089            NaN              NaN            NaN   \n",
       "mean       NaN      38.822584         0.997869      26.388807   \n",
       "std        NaN      15.511611         0.046110      13.229888   \n",
       "min        NaN      20.000000         0.000000       0.000000   \n",
       "25%        NaN      25.000000         1.000000      15.000000   \n",
       "50%        NaN      36.000000         1.000000      28.000000   \n",
       "75%        NaN      49.000000         1.000000      35.000000   \n",
       "max        NaN      85.000000         1.000000      52.000000   \n",
       "\n",
       "        Previously_Insured Vehicle_Age Vehicle_Damage  Annual_Premium  \\\n",
       "count        381109.000000      381109         381109   381109.000000   \n",
       "unique                 NaN           3              2             NaN   \n",
       "top                    NaN    1-2 Year            Yes             NaN   \n",
       "freq                   NaN      200316         192413             NaN   \n",
       "mean              0.458210         NaN            NaN    30564.389581   \n",
       "std               0.498251         NaN            NaN    17213.155057   \n",
       "min               0.000000         NaN            NaN     2630.000000   \n",
       "25%               0.000000         NaN            NaN    24405.000000   \n",
       "50%               0.000000         NaN            NaN    31669.000000   \n",
       "75%               1.000000         NaN            NaN    39400.000000   \n",
       "max               1.000000         NaN            NaN   540165.000000   \n",
       "\n",
       "        Policy_Sales_Channel        Vintage       Response  \n",
       "count          381109.000000  381109.000000  381109.000000  \n",
       "unique                   NaN            NaN            NaN  \n",
       "top                      NaN            NaN            NaN  \n",
       "freq                     NaN            NaN            NaN  \n",
       "mean              112.034295     154.347397       0.122563  \n",
       "std                54.203995      83.671304       0.327936  \n",
       "min                 1.000000      10.000000       0.000000  \n",
       "25%                29.000000      82.000000       0.000000  \n",
       "50%               133.000000     154.000000       0.000000  \n",
       "75%               152.000000     227.000000       0.000000  \n",
       "max               163.000000     299.000000       1.000000  "
      ],
      "text/html": [
       "<div>\n",
       "<style scoped>\n",
       "    .dataframe tbody tr th:only-of-type {\n",
       "        vertical-align: middle;\n",
       "    }\n",
       "\n",
       "    .dataframe tbody tr th {\n",
       "        vertical-align: top;\n",
       "    }\n",
       "\n",
       "    .dataframe thead th {\n",
       "        text-align: right;\n",
       "    }\n",
       "</style>\n",
       "<table border=\"1\" class=\"dataframe\">\n",
       "  <thead>\n",
       "    <tr style=\"text-align: right;\">\n",
       "      <th></th>\n",
       "      <th>Gender</th>\n",
       "      <th>Age</th>\n",
       "      <th>Driving_License</th>\n",
       "      <th>Region_Code</th>\n",
       "      <th>Previously_Insured</th>\n",
       "      <th>Vehicle_Age</th>\n",
       "      <th>Vehicle_Damage</th>\n",
       "      <th>Annual_Premium</th>\n",
       "      <th>Policy_Sales_Channel</th>\n",
       "      <th>Vintage</th>\n",
       "      <th>Response</th>\n",
       "    </tr>\n",
       "  </thead>\n",
       "  <tbody>\n",
       "    <tr>\n",
       "      <th>count</th>\n",
       "      <td>381109</td>\n",
       "      <td>381109.000000</td>\n",
       "      <td>381109.000000</td>\n",
       "      <td>381109.000000</td>\n",
       "      <td>381109.000000</td>\n",
       "      <td>381109</td>\n",
       "      <td>381109</td>\n",
       "      <td>381109.000000</td>\n",
       "      <td>381109.000000</td>\n",
       "      <td>381109.000000</td>\n",
       "      <td>381109.000000</td>\n",
       "    </tr>\n",
       "    <tr>\n",
       "      <th>unique</th>\n",
       "      <td>2</td>\n",
       "      <td>NaN</td>\n",
       "      <td>NaN</td>\n",
       "      <td>NaN</td>\n",
       "      <td>NaN</td>\n",
       "      <td>3</td>\n",
       "      <td>2</td>\n",
       "      <td>NaN</td>\n",
       "      <td>NaN</td>\n",
       "      <td>NaN</td>\n",
       "      <td>NaN</td>\n",
       "    </tr>\n",
       "    <tr>\n",
       "      <th>top</th>\n",
       "      <td>Male</td>\n",
       "      <td>NaN</td>\n",
       "      <td>NaN</td>\n",
       "      <td>NaN</td>\n",
       "      <td>NaN</td>\n",
       "      <td>1-2 Year</td>\n",
       "      <td>Yes</td>\n",
       "      <td>NaN</td>\n",
       "      <td>NaN</td>\n",
       "      <td>NaN</td>\n",
       "      <td>NaN</td>\n",
       "    </tr>\n",
       "    <tr>\n",
       "      <th>freq</th>\n",
       "      <td>206089</td>\n",
       "      <td>NaN</td>\n",
       "      <td>NaN</td>\n",
       "      <td>NaN</td>\n",
       "      <td>NaN</td>\n",
       "      <td>200316</td>\n",
       "      <td>192413</td>\n",
       "      <td>NaN</td>\n",
       "      <td>NaN</td>\n",
       "      <td>NaN</td>\n",
       "      <td>NaN</td>\n",
       "    </tr>\n",
       "    <tr>\n",
       "      <th>mean</th>\n",
       "      <td>NaN</td>\n",
       "      <td>38.822584</td>\n",
       "      <td>0.997869</td>\n",
       "      <td>26.388807</td>\n",
       "      <td>0.458210</td>\n",
       "      <td>NaN</td>\n",
       "      <td>NaN</td>\n",
       "      <td>30564.389581</td>\n",
       "      <td>112.034295</td>\n",
       "      <td>154.347397</td>\n",
       "      <td>0.122563</td>\n",
       "    </tr>\n",
       "    <tr>\n",
       "      <th>std</th>\n",
       "      <td>NaN</td>\n",
       "      <td>15.511611</td>\n",
       "      <td>0.046110</td>\n",
       "      <td>13.229888</td>\n",
       "      <td>0.498251</td>\n",
       "      <td>NaN</td>\n",
       "      <td>NaN</td>\n",
       "      <td>17213.155057</td>\n",
       "      <td>54.203995</td>\n",
       "      <td>83.671304</td>\n",
       "      <td>0.327936</td>\n",
       "    </tr>\n",
       "    <tr>\n",
       "      <th>min</th>\n",
       "      <td>NaN</td>\n",
       "      <td>20.000000</td>\n",
       "      <td>0.000000</td>\n",
       "      <td>0.000000</td>\n",
       "      <td>0.000000</td>\n",
       "      <td>NaN</td>\n",
       "      <td>NaN</td>\n",
       "      <td>2630.000000</td>\n",
       "      <td>1.000000</td>\n",
       "      <td>10.000000</td>\n",
       "      <td>0.000000</td>\n",
       "    </tr>\n",
       "    <tr>\n",
       "      <th>25%</th>\n",
       "      <td>NaN</td>\n",
       "      <td>25.000000</td>\n",
       "      <td>1.000000</td>\n",
       "      <td>15.000000</td>\n",
       "      <td>0.000000</td>\n",
       "      <td>NaN</td>\n",
       "      <td>NaN</td>\n",
       "      <td>24405.000000</td>\n",
       "      <td>29.000000</td>\n",
       "      <td>82.000000</td>\n",
       "      <td>0.000000</td>\n",
       "    </tr>\n",
       "    <tr>\n",
       "      <th>50%</th>\n",
       "      <td>NaN</td>\n",
       "      <td>36.000000</td>\n",
       "      <td>1.000000</td>\n",
       "      <td>28.000000</td>\n",
       "      <td>0.000000</td>\n",
       "      <td>NaN</td>\n",
       "      <td>NaN</td>\n",
       "      <td>31669.000000</td>\n",
       "      <td>133.000000</td>\n",
       "      <td>154.000000</td>\n",
       "      <td>0.000000</td>\n",
       "    </tr>\n",
       "    <tr>\n",
       "      <th>75%</th>\n",
       "      <td>NaN</td>\n",
       "      <td>49.000000</td>\n",
       "      <td>1.000000</td>\n",
       "      <td>35.000000</td>\n",
       "      <td>1.000000</td>\n",
       "      <td>NaN</td>\n",
       "      <td>NaN</td>\n",
       "      <td>39400.000000</td>\n",
       "      <td>152.000000</td>\n",
       "      <td>227.000000</td>\n",
       "      <td>0.000000</td>\n",
       "    </tr>\n",
       "    <tr>\n",
       "      <th>max</th>\n",
       "      <td>NaN</td>\n",
       "      <td>85.000000</td>\n",
       "      <td>1.000000</td>\n",
       "      <td>52.000000</td>\n",
       "      <td>1.000000</td>\n",
       "      <td>NaN</td>\n",
       "      <td>NaN</td>\n",
       "      <td>540165.000000</td>\n",
       "      <td>163.000000</td>\n",
       "      <td>299.000000</td>\n",
       "      <td>1.000000</td>\n",
       "    </tr>\n",
       "  </tbody>\n",
       "</table>\n",
       "</div>"
      ]
     },
     "metadata": {},
     "execution_count": 7
    }
   ],
   "metadata": {}
  },
  {
   "cell_type": "markdown",
   "source": [
    "# Considering one feature at a time"
   ],
   "metadata": {}
  },
  {
   "cell_type": "markdown",
   "source": [
    "## Gender"
   ],
   "metadata": {}
  },
  {
   "cell_type": "code",
   "execution_count": null,
   "source": [
    "import seaborn as sns\r\n",
    "df3 = df.copy()\r\n",
    "df3[\"Response\"] = np.where(df[\"Response\"]==1,\"Yes\",\"No\")\r\n",
    "sns.pairplot(df3,hue = \"Response\")"
   ],
   "outputs": [],
   "metadata": {}
  },
  {
   "cell_type": "markdown",
   "source": [
    "Has only two values 'Male' and 'Female'.\r\n",
    "Next lets, check the count of each and the ratio of male and female in the data."
   ],
   "metadata": {}
  },
  {
   "cell_type": "markdown",
   "source": [
    "Apart from vehicle age all the other categorical datas are almost evenly distributed"
   ],
   "metadata": {}
  },
  {
   "cell_type": "code",
   "execution_count": 9,
   "source": [
    "plt.hist(df['Response'])\r\n",
    "plt.show()"
   ],
   "outputs": [
    {
     "output_type": "display_data",
     "data": {
      "text/plain": [
       "<Figure size 432x288 with 1 Axes>"
      ],
      "image/png": "[encoded data removed]"
     },
     "metadata": {
      "needs_background": "light"
     }
    }
   ],
   "metadata": {}
  },
  {
   "cell_type": "code",
   "execution_count": 10,
   "source": [
    "df_1 = df[df[\"Response\"]==1]\r\n",
    "len(df_1)"
   ],
   "outputs": [
    {
     "output_type": "execute_result",
     "data": {
      "text/plain": [
       "46710"
      ]
     },
     "metadata": {},
     "execution_count": 10
    }
   ],
   "metadata": {}
  },
  {
   "cell_type": "code",
   "execution_count": 11,
   "source": [
    "df_0 = df[df[\"Response\"]==0]\r\n",
    "len(df_0)"
   ],
   "outputs": [
    {
     "output_type": "execute_result",
     "data": {
      "text/plain": [
       "334399"
      ]
     },
     "metadata": {},
     "execution_count": 11
    }
   ],
   "metadata": {}
  },
  {
   "cell_type": "code",
   "execution_count": 12,
   "source": [
    "df_00 = df_0.sample(n=len(df_1))\r\n",
    "len(df_00)"
   ],
   "outputs": [
    {
     "output_type": "execute_result",
     "data": {
      "text/plain": [
       "46710"
      ]
     },
     "metadata": {},
     "execution_count": 12
    }
   ],
   "metadata": {}
  },
  {
   "cell_type": "code",
   "execution_count": 13,
   "source": [
    "df = df_1.append(df_00)\r\n",
    "df = df.reset_index(drop=True)\r\n",
    "len(df)"
   ],
   "outputs": [
    {
     "output_type": "execute_result",
     "data": {
      "text/plain": [
       "93420"
      ]
     },
     "metadata": {},
     "execution_count": 13
    }
   ],
   "metadata": {}
  },
  {
   "cell_type": "code",
   "execution_count": 14,
   "source": [
    "plt.hist(df['Response'])\r\n",
    "plt.show()"
   ],
   "outputs": [
    {
     "output_type": "display_data",
     "data": {
      "text/plain": [
       "<Figure size 432x288 with 1 Axes>"
      ],
      "image/png": "[encoded data removed]"
     },
     "metadata": {
      "needs_background": "light"
     }
    }
   ],
   "metadata": {}
  },
  {
   "cell_type": "code",
   "execution_count": 15,
   "source": [
    "for i in df.columns:\r\n",
    "    if df[i].dtype == object:\r\n",
    "        print(i)\r\n",
    "        plt.hist(df[i])\r\n",
    "        plt.show()"
   ],
   "outputs": [
    {
     "output_type": "stream",
     "name": "stdout",
     "text": [
      "Gender\n"
     ]
    },
    {
     "output_type": "display_data",
     "data": {
      "text/plain": [
       "<Figure size 432x288 with 1 Axes>"
      ],
      "image/png": "[encoded data removed]"
     },
     "metadata": {
      "needs_background": "light"
     }
    },
    {
     "output_type": "stream",
     "name": "stdout",
     "text": [
      "Vehicle_Age\n"
     ]
    },
    {
     "output_type": "display_data",
     "data": {
      "text/plain": [
       "<Figure size 432x288 with 1 Axes>"
      ],
      "image/png": "[encoded data removed]"
     },
     "metadata": {
      "needs_background": "light"
     }
    },
    {
     "output_type": "stream",
     "name": "stdout",
     "text": [
      "Vehicle_Damage\n"
     ]
    },
    {
     "output_type": "display_data",
     "data": {
      "text/plain": [
       "<Figure size 432x288 with 1 Axes>"
      ],
      "image/png": "[encoded data removed]"
     },
     "metadata": {
      "needs_background": "light"
     }
    }
   ],
   "metadata": {}
  },
  {
   "cell_type": "markdown",
   "source": [
    "# Checking for correlation of data"
   ],
   "metadata": {}
  },
  {
   "cell_type": "code",
   "execution_count": 16,
   "source": [
    "y = df['Response']\r\n",
    "x = df.drop(['Response'],axis=1)"
   ],
   "outputs": [],
   "metadata": {}
  },
  {
   "cell_type": "code",
   "execution_count": 17,
   "source": [
    "plt.rcParams['agg.path.chunksize'] = 100000\r\n",
    "plt.plot(df['Response'],df['Region_Code'],'ro')\r\n",
    "plt.show()"
   ],
   "outputs": [
    {
     "output_type": "display_data",
     "data": {
      "text/plain": [
       "<Figure size 432x288 with 1 Axes>"
      ],
      "image/png": "[encoded data removed]"
     },
     "metadata": {
      "needs_background": "light"
     }
    }
   ],
   "metadata": {}
  },
  {
   "cell_type": "markdown",
   "source": [
    "## Linear Correlatiom"
   ],
   "metadata": {}
  },
  {
   "cell_type": "code",
   "execution_count": 18,
   "source": [
    "df.corr(method='spearman')"
   ],
   "outputs": [
    {
     "output_type": "execute_result",
     "data": {
      "text/plain": [
       "                           Age  Driving_License  Region_Code  \\\n",
       "Age                   1.000000        -0.056742     0.005924   \n",
       "Driving_License      -0.056742         1.000000     0.000728   \n",
       "Region_Code           0.005924         0.000728     1.000000   \n",
       "Previously_Insured   -0.287848         0.000727     0.001362   \n",
       "Annual_Premium        0.127482        -0.010884    -0.037187   \n",
       "Policy_Sales_Channel -0.577961         0.032348    -0.008902   \n",
       "Vintage              -0.000997        -0.001956    -0.004715   \n",
       "Response              0.221960         0.019600     0.002595   \n",
       "\n",
       "                      Previously_Insured  Annual_Premium  \\\n",
       "Age                            -0.287848        0.127482   \n",
       "Driving_License                 0.000727       -0.010884   \n",
       "Region_Code                     0.001362       -0.037187   \n",
       "Previously_Insured              1.000000       -0.040049   \n",
       "Annual_Premium                 -0.040049        1.000000   \n",
       "Policy_Sales_Channel            0.229051       -0.236068   \n",
       "Vintage                        -0.001042        0.003243   \n",
       "Response                       -0.589033        0.052407   \n",
       "\n",
       "                      Policy_Sales_Channel   Vintage  Response  \n",
       "Age                              -0.577961 -0.000997  0.221960  \n",
       "Driving_License                   0.032348 -0.001956  0.019600  \n",
       "Region_Code                      -0.008902 -0.004715  0.002595  \n",
       "Previously_Insured                0.229051 -0.001042 -0.589033  \n",
       "Annual_Premium                   -0.236068  0.003243  0.052407  \n",
       "Policy_Sales_Channel              1.000000 -0.000227 -0.208221  \n",
       "Vintage                          -0.000227  1.000000 -0.001320  \n",
       "Response                         -0.208221 -0.001320  1.000000  "
      ],
      "text/html": [
       "<div>\n",
       "<style scoped>\n",
       "    .dataframe tbody tr th:only-of-type {\n",
       "        vertical-align: middle;\n",
       "    }\n",
       "\n",
       "    .dataframe tbody tr th {\n",
       "        vertical-align: top;\n",
       "    }\n",
       "\n",
       "    .dataframe thead th {\n",
       "        text-align: right;\n",
       "    }\n",
       "</style>\n",
       "<table border=\"1\" class=\"dataframe\">\n",
       "  <thead>\n",
       "    <tr style=\"text-align: right;\">\n",
       "      <th></th>\n",
       "      <th>Age</th>\n",
       "      <th>Driving_License</th>\n",
       "      <th>Region_Code</th>\n",
       "      <th>Previously_Insured</th>\n",
       "      <th>Annual_Premium</th>\n",
       "      <th>Policy_Sales_Channel</th>\n",
       "      <th>Vintage</th>\n",
       "      <th>Response</th>\n",
       "    </tr>\n",
       "  </thead>\n",
       "  <tbody>\n",
       "    <tr>\n",
       "      <th>Age</th>\n",
       "      <td>1.000000</td>\n",
       "      <td>-0.056742</td>\n",
       "      <td>0.005924</td>\n",
       "      <td>-0.287848</td>\n",
       "      <td>0.127482</td>\n",
       "      <td>-0.577961</td>\n",
       "      <td>-0.000997</td>\n",
       "      <td>0.221960</td>\n",
       "    </tr>\n",
       "    <tr>\n",
       "      <th>Driving_License</th>\n",
       "      <td>-0.056742</td>\n",
       "      <td>1.000000</td>\n",
       "      <td>0.000728</td>\n",
       "      <td>0.000727</td>\n",
       "      <td>-0.010884</td>\n",
       "      <td>0.032348</td>\n",
       "      <td>-0.001956</td>\n",
       "      <td>0.019600</td>\n",
       "    </tr>\n",
       "    <tr>\n",
       "      <th>Region_Code</th>\n",
       "      <td>0.005924</td>\n",
       "      <td>0.000728</td>\n",
       "      <td>1.000000</td>\n",
       "      <td>0.001362</td>\n",
       "      <td>-0.037187</td>\n",
       "      <td>-0.008902</td>\n",
       "      <td>-0.004715</td>\n",
       "      <td>0.002595</td>\n",
       "    </tr>\n",
       "    <tr>\n",
       "      <th>Previously_Insured</th>\n",
       "      <td>-0.287848</td>\n",
       "      <td>0.000727</td>\n",
       "      <td>0.001362</td>\n",
       "      <td>1.000000</td>\n",
       "      <td>-0.040049</td>\n",
       "      <td>0.229051</td>\n",
       "      <td>-0.001042</td>\n",
       "      <td>-0.589033</td>\n",
       "    </tr>\n",
       "    <tr>\n",
       "      <th>Annual_Premium</th>\n",
       "      <td>0.127482</td>\n",
       "      <td>-0.010884</td>\n",
       "      <td>-0.037187</td>\n",
       "      <td>-0.040049</td>\n",
       "      <td>1.000000</td>\n",
       "      <td>-0.236068</td>\n",
       "      <td>0.003243</td>\n",
       "      <td>0.052407</td>\n",
       "    </tr>\n",
       "    <tr>\n",
       "      <th>Policy_Sales_Channel</th>\n",
       "      <td>-0.577961</td>\n",
       "      <td>0.032348</td>\n",
       "      <td>-0.008902</td>\n",
       "      <td>0.229051</td>\n",
       "      <td>-0.236068</td>\n",
       "      <td>1.000000</td>\n",
       "      <td>-0.000227</td>\n",
       "      <td>-0.208221</td>\n",
       "    </tr>\n",
       "    <tr>\n",
       "      <th>Vintage</th>\n",
       "      <td>-0.000997</td>\n",
       "      <td>-0.001956</td>\n",
       "      <td>-0.004715</td>\n",
       "      <td>-0.001042</td>\n",
       "      <td>0.003243</td>\n",
       "      <td>-0.000227</td>\n",
       "      <td>1.000000</td>\n",
       "      <td>-0.001320</td>\n",
       "    </tr>\n",
       "    <tr>\n",
       "      <th>Response</th>\n",
       "      <td>0.221960</td>\n",
       "      <td>0.019600</td>\n",
       "      <td>0.002595</td>\n",
       "      <td>-0.589033</td>\n",
       "      <td>0.052407</td>\n",
       "      <td>-0.208221</td>\n",
       "      <td>-0.001320</td>\n",
       "      <td>1.000000</td>\n",
       "    </tr>\n",
       "  </tbody>\n",
       "</table>\n",
       "</div>"
      ]
     },
     "metadata": {},
     "execution_count": 18
    }
   ],
   "metadata": {}
  },
  {
   "cell_type": "markdown",
   "source": [
    "## Scatter plot"
   ],
   "metadata": {}
  },
  {
   "cell_type": "code",
   "execution_count": null,
   "source": [
    "fig,axes = plt.subplot(nrows = len(df), ncols = 1)\r\n",
    "for i in df.columns:\r\n",
    "    axes[j][0].scatter()"
   ],
   "outputs": [],
   "metadata": {}
  },
  {
   "cell_type": "markdown",
   "source": [
    "# Label Encoding"
   ],
   "metadata": {}
  },
  {
   "cell_type": "code",
   "execution_count": 20,
   "source": [
    "def label(df):\r\n",
    "    df1 = df.copy()\r\n",
    "    lab = LabelEncoder()\r\n",
    "    for i in df1.columns:\r\n",
    "        if df[i].dtype == object:\r\n",
    "            df1[i] = lab.fit_transform(df[i]).astype('float64')\r\n",
    "    return df1"
   ],
   "outputs": [],
   "metadata": {}
  },
  {
   "cell_type": "markdown",
   "source": [
    "# One Hot Encoding"
   ],
   "metadata": {}
  },
  {
   "cell_type": "code",
   "execution_count": 21,
   "source": [
    "def one(df):\r\n",
    "    df2 = df.copy()\r\n",
    "    for i in df2.columns:\r\n",
    "        if df2[i].dtype == object:\r\n",
    "            d = pd.get_dummies(df2[i],prefix = i)\r\n",
    "            df2.drop(i,axis=1,inplace=True)\r\n",
    "            df2 = df2.join(d)\r\n",
    "    return(df2)"
   ],
   "outputs": [],
   "metadata": {}
  },
  {
   "cell_type": "markdown",
   "source": [
    "# Splitting data into training and testing"
   ],
   "metadata": {}
  },
  {
   "cell_type": "code",
   "execution_count": 67,
   "source": [
    "df2 = one(df)\r\n",
    "#df2 = label(df)\r\n",
    "#df2 = df.copy()\r\n",
    "x = df2.drop('Response',axis=1)\r\n",
    "y = df2['Response'] \r\n",
    "x_train,x_test,y_train,y_test = train_test_split(x,y,test_size=0.3)"
   ],
   "outputs": [],
   "metadata": {}
  },
  {
   "cell_type": "code",
   "execution_count": 68,
   "source": [
    "set(y_train)"
   ],
   "outputs": [
    {
     "output_type": "execute_result",
     "data": {
      "text/plain": [
       "{0, 1}"
      ]
     },
     "metadata": {},
     "execution_count": 68
    }
   ],
   "metadata": {}
  },
  {
   "cell_type": "markdown",
   "source": [
    "# Preparing data for PyTorch"
   ],
   "metadata": {}
  },
  {
   "cell_type": "markdown",
   "source": [
    "## Changing the data to tensor form"
   ],
   "metadata": {}
  },
  {
   "cell_type": "code",
   "execution_count": 24,
   "source": [
    "def tens(a):\r\n",
    "    \r\n",
    "    return(torch.FloatTensor(a.values))"
   ],
   "outputs": [],
   "metadata": {}
  },
  {
   "cell_type": "code",
   "execution_count": 69,
   "source": [
    "x_train = tens(x_train)    #.values was necessary because torch requires the data \r\n",
    "x_test = tens(x_test)      # to be in the form of an array and not a dataframe\r\n",
    "y_train = torch.LongTensor(y_train.values)\r\n",
    "y_test = torch.LongTensor(y_test.values)"
   ],
   "outputs": [],
   "metadata": {}
  },
  {
   "cell_type": "code",
   "execution_count": 70,
   "source": [
    "N = df2.shape[1]-1"
   ],
   "outputs": [],
   "metadata": {}
  },
  {
   "cell_type": "code",
   "execution_count": 125,
   "source": [
    "from torch import nn\r\n",
    "class NeuralNet(nn.Module):\r\n",
    "    def __init__(self,in_features=8,out_features=2):\r\n",
    "        super().__init__()\r\n",
    "        self.fc1 = nn.Linear(in_features=in_features,out_features=20)\r\n",
    "        self.fc2 = nn.Linear(in_features=20,out_features=20)\r\n",
    "        self.fc3 = nn.Linear(in_features=20,out_features=out_features)\r\n",
    "    def forward(self,x):\r\n",
    "        x = F.relu(self.fc1(x))\r\n",
    "        x = F.relu(self.fc2(x))\r\n",
    "        x = self.fc3(x)\r\n",
    "        return x"
   ],
   "outputs": [],
   "metadata": {}
  },
  {
   "cell_type": "code",
   "execution_count": 122,
   "source": [
    "#torch.manual_seed(42)\r\n",
    "model = NeuralNet()\r\n",
    "model.parameters\r\n"
   ],
   "outputs": [
    {
     "output_type": "execute_result",
     "data": {
      "text/plain": [
       "<bound method Module.parameters of NeuralNet(\n",
       "  (fc1): Linear(in_features=8, out_features=20, bias=True)\n",
       "  (fc2): Linear(in_features=20, out_features=20, bias=True)\n",
       "  (fc3): Linear(in_features=20, out_features=2, bias=True)\n",
       ")>"
      ]
     },
     "metadata": {},
     "execution_count": 122
    }
   ],
   "metadata": {}
  },
  {
   "cell_type": "code",
   "execution_count": 96,
   "source": [
    "lf = nn.CrossEntropyLoss()\r\n",
    "optimizer = torch.optim.Adam(model.parameters(),lr = 0.1)"
   ],
   "outputs": [],
   "metadata": {}
  },
  {
   "cell_type": "code",
   "execution_count": null,
   "source": [
    "import torch.nn.functional as F\r\n",
    "epochs =50\r\n",
    "fl = []\r\n",
    "for i in range(epochs):\r\n",
    "    y_cap = model.forward(x_train)\r\n",
    "    l = lf(y_cap,y_train)\r\n",
    "    print(l.item())\r\n",
    "    fl.append(l)\r\n",
    "    optimizer.zero_grad()\r\n",
    "    l.backward()\r\n",
    "    optimizer.step()"
   ],
   "outputs": [],
   "metadata": {}
  },
  {
   "cell_type": "code",
   "execution_count": 98,
   "source": [
    "predictions = []\r\n",
    "with torch.no_grad():\r\n",
    "    for i,data in enumerate(x_test):\r\n",
    "        y_pred = model(data)\r\n",
    "        predictions.append(y_pred)"
   ],
   "outputs": [],
   "metadata": {}
  },
  {
   "cell_type": "code",
   "execution_count": null,
   "source": [
    "set(predictions)"
   ],
   "outputs": [],
   "metadata": {}
  },
  {
   "cell_type": "code",
   "execution_count": 52,
   "source": [
    "from sklearn.metrics import confusion_matrix as cm\r\n",
    "c = cm(y_test,predictions)\r\n",
    "c"
   ],
   "outputs": [
    {
     "output_type": "execute_result",
     "data": {
      "text/plain": [
       "array([[14029,     0],\n",
       "       [13997,     0]], dtype=int64)"
      ]
     },
     "metadata": {},
     "execution_count": 52
    }
   ],
   "metadata": {}
  },
  {
   "cell_type": "code",
   "execution_count": 61,
   "source": [
    "from sklearn.metrics import accuracy_score as ac\r\n",
    "score = ac(y_test,predictions)"
   ],
   "outputs": [],
   "metadata": {}
  },
  {
   "cell_type": "code",
   "execution_count": 62,
   "source": [
    "score"
   ],
   "outputs": [
    {
     "output_type": "execute_result",
     "data": {
      "text/plain": [
       "0.5031756226361236"
      ]
     },
     "metadata": {},
     "execution_count": 62
    }
   ],
   "metadata": {}
  },
  {
   "cell_type": "code",
   "execution_count": 102,
   "source": [
    "x_val = pd.read_csv(\"test.csv\")\r\n",
    "id = x_val[\"id\"]\r\n",
    "x_val = x_val.drop(\"id\",axis=1)\r\n",
    "x_val = one(x_val)\r\n",
    "x_val = tens(x_val)\r\n",
    "x_val.shape"
   ],
   "outputs": [
    {
     "output_type": "execute_result",
     "data": {
      "text/plain": [
       "torch.Size([127037, 14])"
      ]
     },
     "metadata": {},
     "execution_count": 102
    }
   ],
   "metadata": {}
  },
  {
   "cell_type": "code",
   "execution_count": null,
   "source": [
    "predictions = []\r\n",
    "with torch.no_grad():\r\n",
    "    for i,data in enumerate(x_val):\r\n",
    "        print(model(data))\r\n",
    "        y_pred = model(data).argmax().item()\r\n",
    "        predictions.append(y_pred)"
   ],
   "outputs": [],
   "metadata": {}
  },
  {
   "cell_type": "code",
   "execution_count": 109,
   "source": [
    "df4 = pd.read_csv(\"diabetes.csv\")\r\n",
    "x = df4.drop(\"Outcome\",axis=1).values\r\n",
    "y = df4['Outcome'].values"
   ],
   "outputs": [],
   "metadata": {}
  },
  {
   "cell_type": "code",
   "execution_count": 110,
   "source": [
    "X_train,X_test,y_train,y_test=train_test_split(x,y,test_size=0.2,random_state=0)\r\n",
    "X_train=torch.FloatTensor(X_train)\r\n",
    "X_test=torch.FloatTensor(X_test)\r\n",
    "y_train=torch.LongTensor(y_train)\r\n",
    "y_test=torch.LongTensor(y_test)"
   ],
   "outputs": [],
   "metadata": {}
  },
  {
   "cell_type": "code",
   "execution_count": 119,
   "source": [
    "N = df4.shape[1]-1\r\n",
    "N"
   ],
   "outputs": [
    {
     "output_type": "execute_result",
     "data": {
      "text/plain": [
       "8"
      ]
     },
     "metadata": {},
     "execution_count": 119
    }
   ],
   "metadata": {}
  },
  {
   "cell_type": "code",
   "execution_count": 126,
   "source": [
    "epochs =100\r\n",
    "fl = []\r\n",
    "for i in range(epochs):\r\n",
    "    y_cap = model.forward(X_train)\r\n",
    "    l = lf(y_cap,y_train)\r\n",
    "    print(l.item())\r\n",
    "    fl.append(l)\r\n",
    "    optimizer.zero_grad()\r\n",
    "    l.backward()\r\n",
    "    optimizer.step()"
   ],
   "outputs": [
    {
     "output_type": "stream",
     "name": "stdout",
     "text": [
      "1.3338587284088135\n",
      "1.3338587284088135\n",
      "1.3338587284088135\n",
      "1.3338587284088135\n",
      "1.3338587284088135\n",
      "1.3338587284088135\n",
      "1.3338587284088135\n",
      "1.3338587284088135\n",
      "1.3338587284088135\n",
      "1.3338587284088135\n",
      "1.3338587284088135\n",
      "1.3338587284088135\n",
      "1.3338587284088135\n",
      "1.3338587284088135\n",
      "1.3338587284088135\n",
      "1.3338587284088135\n",
      "1.3338587284088135\n",
      "1.3338587284088135\n",
      "1.3338587284088135\n",
      "1.3338587284088135\n",
      "1.3338587284088135\n",
      "1.3338587284088135\n",
      "1.3338587284088135\n",
      "1.3338587284088135\n",
      "1.3338587284088135\n",
      "1.3338587284088135\n",
      "1.3338587284088135\n",
      "1.3338587284088135\n",
      "1.3338587284088135\n",
      "1.3338587284088135\n",
      "1.3338587284088135\n",
      "1.3338587284088135\n",
      "1.3338587284088135\n",
      "1.3338587284088135\n",
      "1.3338587284088135\n",
      "1.3338587284088135\n",
      "1.3338587284088135\n",
      "1.3338587284088135\n",
      "1.3338587284088135\n",
      "1.3338587284088135\n",
      "1.3338587284088135\n",
      "1.3338587284088135\n",
      "1.3338587284088135\n",
      "1.3338587284088135\n",
      "1.3338587284088135\n",
      "1.3338587284088135\n",
      "1.3338587284088135\n",
      "1.3338587284088135\n",
      "1.3338587284088135\n",
      "1.3338587284088135\n",
      "1.3338587284088135\n",
      "1.3338587284088135\n",
      "1.3338587284088135\n",
      "1.3338587284088135\n",
      "1.3338587284088135\n",
      "1.3338587284088135\n",
      "1.3338587284088135\n",
      "1.3338587284088135\n",
      "1.3338587284088135\n",
      "1.3338587284088135\n",
      "1.3338587284088135\n",
      "1.3338587284088135\n",
      "1.3338587284088135\n",
      "1.3338587284088135\n",
      "1.3338587284088135\n",
      "1.3338587284088135\n",
      "1.3338587284088135\n",
      "1.3338587284088135\n",
      "1.3338587284088135\n",
      "1.3338587284088135\n",
      "1.3338587284088135\n",
      "1.3338587284088135\n",
      "1.3338587284088135\n",
      "1.3338587284088135\n",
      "1.3338587284088135\n",
      "1.3338587284088135\n",
      "1.3338587284088135\n",
      "1.3338587284088135\n",
      "1.3338587284088135\n",
      "1.3338587284088135\n",
      "1.3338587284088135\n",
      "1.3338587284088135\n",
      "1.3338587284088135\n",
      "1.3338587284088135\n",
      "1.3338587284088135\n",
      "1.3338587284088135\n",
      "1.3338587284088135\n",
      "1.3338587284088135\n",
      "1.3338587284088135\n",
      "1.3338587284088135\n",
      "1.3338587284088135\n",
      "1.3338587284088135\n",
      "1.3338587284088135\n",
      "1.3338587284088135\n",
      "1.3338587284088135\n",
      "1.3338587284088135\n",
      "1.3338587284088135\n",
      "1.3338587284088135\n",
      "1.3338587284088135\n",
      "1.3338587284088135\n"
     ]
    }
   ],
   "metadata": {}
  },
  {
   "cell_type": "code",
   "execution_count": null,
   "source": [],
   "outputs": [],
   "metadata": {}
  }
 ],
 "metadata": {
  "orig_nbformat": 4,
  "language_info": {
   "name": "python",
   "version": "3.9.6",
   "mimetype": "text/x-python",
   "codemirror_mode": {
    "name": "ipython",
    "version": 3
   },
   "pygments_lexer": "ipython3",
   "nbconvert_exporter": "python",
   "file_extension": ".py"
  },
  "kernelspec": {
   "name": "python3",
   "display_name": "Python 3.9.6 64-bit"
  },
  "interpreter": {
   "hash": "4a69da72ed8d5f95fd38d7d776a081d75b8700c2589cad8f0d7c8f8863c828a9"
  }
 },
 "nbformat": 4,
 "nbformat_minor": 2
}