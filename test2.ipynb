{
 "cells": [
  {
   "cell_type": "code",
   "execution_count": 1,
   "source": [
    "import pandas as pd\r\n",
    "df=pd.read_csv('diabetes.csv')\r\n",
    "df.head()"
   ],
   "outputs": [
    {
     "output_type": "execute_result",
     "data": {
      "text/plain": [
       "   Pregnancies  Glucose  BloodPressure  SkinThickness  Insulin   BMI  \\\n",
       "0            6      148             72             35        0  33.6   \n",
       "1            1       85             66             29        0  26.6   \n",
       "2            8      183             64              0        0  23.3   \n",
       "3            1       89             66             23       94  28.1   \n",
       "4            0      137             40             35      168  43.1   \n",
       "\n",
       "   DiabetesPedigreeFunction  Age  Outcome  \n",
       "0                     0.627   50        1  \n",
       "1                     0.351   31        0  \n",
       "2                     0.672   32        1  \n",
       "3                     0.167   21        0  \n",
       "4                     2.288   33        1  "
      ],
      "text/html": [
       "<div>\n",
       "<style scoped>\n",
       "    .dataframe tbody tr th:only-of-type {\n",
       "        vertical-align: middle;\n",
       "    }\n",
       "\n",
       "    .dataframe tbody tr th {\n",
       "        vertical-align: top;\n",
       "    }\n",
       "\n",
       "    .dataframe thead th {\n",
       "        text-align: right;\n",
       "    }\n",
       "</style>\n",
       "<table border=\"1\" class=\"dataframe\">\n",
       "  <thead>\n",
       "    <tr style=\"text-align: right;\">\n",
       "      <th></th>\n",
       "      <th>Pregnancies</th>\n",
       "      <th>Glucose</th>\n",
       "      <th>BloodPressure</th>\n",
       "      <th>SkinThickness</th>\n",
       "      <th>Insulin</th>\n",
       "      <th>BMI</th>\n",
       "      <th>DiabetesPedigreeFunction</th>\n",
       "      <th>Age</th>\n",
       "      <th>Outcome</th>\n",
       "    </tr>\n",
       "  </thead>\n",
       "  <tbody>\n",
       "    <tr>\n",
       "      <th>0</th>\n",
       "      <td>6</td>\n",
       "      <td>148</td>\n",
       "      <td>72</td>\n",
       "      <td>35</td>\n",
       "      <td>0</td>\n",
       "      <td>33.6</td>\n",
       "      <td>0.627</td>\n",
       "      <td>50</td>\n",
       "      <td>1</td>\n",
       "    </tr>\n",
       "    <tr>\n",
       "      <th>1</th>\n",
       "      <td>1</td>\n",
       "      <td>85</td>\n",
       "      <td>66</td>\n",
       "      <td>29</td>\n",
       "      <td>0</td>\n",
       "      <td>26.6</td>\n",
       "      <td>0.351</td>\n",
       "      <td>31</td>\n",
       "      <td>0</td>\n",
       "    </tr>\n",
       "    <tr>\n",
       "      <th>2</th>\n",
       "      <td>8</td>\n",
       "      <td>183</td>\n",
       "      <td>64</td>\n",
       "      <td>0</td>\n",
       "      <td>0</td>\n",
       "      <td>23.3</td>\n",
       "      <td>0.672</td>\n",
       "      <td>32</td>\n",
       "      <td>1</td>\n",
       "    </tr>\n",
       "    <tr>\n",
       "      <th>3</th>\n",
       "      <td>1</td>\n",
       "      <td>89</td>\n",
       "      <td>66</td>\n",
       "      <td>23</td>\n",
       "      <td>94</td>\n",
       "      <td>28.1</td>\n",
       "      <td>0.167</td>\n",
       "      <td>21</td>\n",
       "      <td>0</td>\n",
       "    </tr>\n",
       "    <tr>\n",
       "      <th>4</th>\n",
       "      <td>0</td>\n",
       "      <td>137</td>\n",
       "      <td>40</td>\n",
       "      <td>35</td>\n",
       "      <td>168</td>\n",
       "      <td>43.1</td>\n",
       "      <td>2.288</td>\n",
       "      <td>33</td>\n",
       "      <td>1</td>\n",
       "    </tr>\n",
       "  </tbody>\n",
       "</table>\n",
       "</div>"
      ]
     },
     "metadata": {},
     "execution_count": 1
    }
   ],
   "metadata": {}
  },
  {
   "cell_type": "code",
   "execution_count": 3,
   "source": [
    "X=df.drop('Outcome',axis=1).values### independent features\r\n",
    "y=df['Outcome'].values###dependent features"
   ],
   "outputs": [],
   "metadata": {}
  },
  {
   "cell_type": "code",
   "execution_count": 4,
   "source": [
    "from sklearn.model_selection import train_test_split\r\n",
    "\r\n",
    "X_train,X_test,y_train,y_test=train_test_split(X,y,test_size=0.2,random_state=0)"
   ],
   "outputs": [],
   "metadata": {}
  },
  {
   "cell_type": "code",
   "execution_count": 5,
   "source": [
    "import torch\r\n",
    "import torch.nn as nn\r\n",
    "import torch.nn.functional as F"
   ],
   "outputs": [],
   "metadata": {}
  },
  {
   "cell_type": "code",
   "execution_count": 6,
   "source": [
    "X_train=torch.FloatTensor(X_train)\r\n",
    "X_test=torch.FloatTensor(X_test)\r\n",
    "y_train=torch.LongTensor(y_train)\r\n",
    "y_test=torch.LongTensor(y_test)"
   ],
   "outputs": [],
   "metadata": {}
  },
  {
   "cell_type": "code",
   "execution_count": 7,
   "source": [
    "class ANN_Model(nn.Module):\r\n",
    "    def __init__(self,input_features=8,hidden1=20,hidden2=20,out_features=2):\r\n",
    "        super().__init__()\r\n",
    "        self.f_connected1=nn.Linear(input_features,hidden1)\r\n",
    "        self.f_connected2=nn.Linear(hidden1,hidden2)\r\n",
    "        self.out=nn.Linear(hidden2,out_features)\r\n",
    "    def forward(self,x):\r\n",
    "        x=F.relu(self.f_connected1(x))\r\n",
    "        x=F.relu(self.f_connected2(x))\r\n",
    "        x=self.out(x)\r\n",
    "        return x"
   ],
   "outputs": [],
   "metadata": {}
  },
  {
   "cell_type": "code",
   "execution_count": 8,
   "source": [
    "torch.manual_seed(20)\r\n",
    "model=ANN_Model()"
   ],
   "outputs": [],
   "metadata": {}
  },
  {
   "cell_type": "code",
   "execution_count": 9,
   "source": [
    "loss_function=nn.CrossEntropyLoss()\r\n",
    "optimizer=torch.optim.Adam(model.parameters(),lr=0.01)"
   ],
   "outputs": [],
   "metadata": {}
  },
  {
   "cell_type": "code",
   "execution_count": 10,
   "source": [
    "epochs=500\r\n",
    "final_losses=[]\r\n",
    "for i in range(epochs):\r\n",
    "    i=i+1\r\n",
    "    y_pred=model.forward(X_train)\r\n",
    "    loss=loss_function(y_pred,y_train)\r\n",
    "    final_losses.append(loss)\r\n",
    "    if i%10==1:\r\n",
    "        print(\"Epoch number: {} and the loss : {}\".format(i,loss.item()))\r\n",
    "    optimizer.zero_grad()\r\n",
    "    loss.backward()\r\n",
    "    optimizer.step()"
   ],
   "outputs": [
    {
     "output_type": "stream",
     "name": "stdout",
     "text": [
      "Epoch number: 1 and the loss : 3.4572105407714844\n",
      "Epoch number: 11 and the loss : 0.8019207715988159\n",
      "Epoch number: 21 and the loss : 0.6090320944786072\n",
      "Epoch number: 31 and the loss : 0.5917771458625793\n",
      "Epoch number: 41 and the loss : 0.5679708123207092\n",
      "Epoch number: 51 and the loss : 0.5529041886329651\n",
      "Epoch number: 61 and the loss : 0.5410094857215881\n",
      "Epoch number: 71 and the loss : 0.5310389995574951\n",
      "Epoch number: 81 and the loss : 0.5220361351966858\n",
      "Epoch number: 91 and the loss : 0.5135972499847412\n",
      "Epoch number: 101 and the loss : 0.5061254501342773\n",
      "Epoch number: 111 and the loss : 0.4983409643173218\n",
      "Epoch number: 121 and the loss : 0.49605512619018555\n",
      "Epoch number: 131 and the loss : 0.4828636944293976\n",
      "Epoch number: 141 and the loss : 0.47558996081352234\n",
      "Epoch number: 151 and the loss : 0.48198652267456055\n",
      "Epoch number: 161 and the loss : 0.48064684867858887\n",
      "Epoch number: 171 and the loss : 0.47069016098976135\n",
      "Epoch number: 181 and the loss : 0.4590848684310913\n",
      "Epoch number: 191 and the loss : 0.45079556107521057\n",
      "Epoch number: 201 and the loss : 0.4441654682159424\n",
      "Epoch number: 211 and the loss : 0.44217923283576965\n",
      "Epoch number: 221 and the loss : 0.43961048126220703\n",
      "Epoch number: 231 and the loss : 0.4295105040073395\n",
      "Epoch number: 241 and the loss : 0.4228183627128601\n",
      "Epoch number: 251 and the loss : 0.4230090081691742\n",
      "Epoch number: 261 and the loss : 0.43656647205352783\n",
      "Epoch number: 271 and the loss : 0.4328117370605469\n",
      "Epoch number: 281 and the loss : 0.44263067841529846\n",
      "Epoch number: 291 and the loss : 0.4109543561935425\n",
      "Epoch number: 301 and the loss : 0.40838778018951416\n",
      "Epoch number: 311 and the loss : 0.4015677273273468\n",
      "Epoch number: 321 and the loss : 0.3961658179759979\n",
      "Epoch number: 331 and the loss : 0.39879482984542847\n",
      "Epoch number: 341 and the loss : 0.4077186584472656\n",
      "Epoch number: 351 and the loss : 0.3899102807044983\n",
      "Epoch number: 361 and the loss : 0.4830307960510254\n",
      "Epoch number: 371 and the loss : 0.39371684193611145\n",
      "Epoch number: 381 and the loss : 0.385481059551239\n",
      "Epoch number: 391 and the loss : 0.37794747948646545\n",
      "Epoch number: 401 and the loss : 0.3739408850669861\n",
      "Epoch number: 411 and the loss : 0.3709624707698822\n",
      "Epoch number: 421 and the loss : 0.4458174407482147\n",
      "Epoch number: 431 and the loss : 0.4128481447696686\n",
      "Epoch number: 441 and the loss : 0.379484623670578\n",
      "Epoch number: 451 and the loss : 0.3703238368034363\n",
      "Epoch number: 461 and the loss : 0.36610621213912964\n",
      "Epoch number: 471 and the loss : 0.3620891869068146\n",
      "Epoch number: 481 and the loss : 0.3585990369319916\n",
      "Epoch number: 491 and the loss : 0.35471785068511963\n"
     ]
    }
   ],
   "metadata": {}
  },
  {
   "cell_type": "code",
   "execution_count": 11,
   "source": [
    "from sklearn.metrics import confusion_matrix as cm\r\n",
    "c = cm(y_test,predictions)\r\n",
    "c"
   ],
   "outputs": [
    {
     "output_type": "error",
     "ename": "NameError",
     "evalue": "name 'predictions' is not defined",
     "traceback": [
      "\u001b[1;31m---------------------------------------------------------------------------\u001b[0m",
      "\u001b[1;31mNameError\u001b[0m                                 Traceback (most recent call last)",
      "\u001b[1;32mC:\\Users\\PRAJUA~1\\AppData\\Local\\Temp/ipykernel_14232/725028047.py\u001b[0m in \u001b[0;36m<module>\u001b[1;34m\u001b[0m\n\u001b[0;32m      1\u001b[0m \u001b[1;32mfrom\u001b[0m \u001b[0msklearn\u001b[0m\u001b[1;33m.\u001b[0m\u001b[0mmetrics\u001b[0m \u001b[1;32mimport\u001b[0m \u001b[0mconfusion_matrix\u001b[0m \u001b[1;32mas\u001b[0m \u001b[0mcm\u001b[0m\u001b[1;33m\u001b[0m\u001b[1;33m\u001b[0m\u001b[0m\n\u001b[1;32m----> 2\u001b[1;33m \u001b[0mc\u001b[0m \u001b[1;33m=\u001b[0m \u001b[0mcm\u001b[0m\u001b[1;33m(\u001b[0m\u001b[0my_test\u001b[0m\u001b[1;33m,\u001b[0m\u001b[0mpredictions\u001b[0m\u001b[1;33m)\u001b[0m\u001b[1;33m\u001b[0m\u001b[1;33m\u001b[0m\u001b[0m\n\u001b[0m\u001b[0;32m      3\u001b[0m \u001b[0mc\u001b[0m\u001b[1;33m\u001b[0m\u001b[1;33m\u001b[0m\u001b[0m\n",
      "\u001b[1;31mNameError\u001b[0m: name 'predictions' is not defined"
     ]
    }
   ],
   "metadata": {}
  },
  {
   "cell_type": "code",
   "execution_count": null,
   "source": [],
   "outputs": [],
   "metadata": {}
  }
 ],
 "metadata": {
  "orig_nbformat": 4,
  "language_info": {
   "name": "python",
   "version": "3.9.6",
   "mimetype": "text/x-python",
   "codemirror_mode": {
    "name": "ipython",
    "version": 3
   },
   "pygments_lexer": "ipython3",
   "nbconvert_exporter": "python",
   "file_extension": ".py"
  },
  "kernelspec": {
   "name": "python3",
   "display_name": "Python 3.9.6 64-bit"
  },
  "interpreter": {
   "hash": "4a69da72ed8d5f95fd38d7d776a081d75b8700c2589cad8f0d7c8f8863c828a9"
  }
 },
 "nbformat": 4,
 "nbformat_minor": 2
}